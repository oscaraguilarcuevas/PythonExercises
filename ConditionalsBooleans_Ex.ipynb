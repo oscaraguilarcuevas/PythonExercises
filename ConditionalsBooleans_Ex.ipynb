{
 "cells": [
  {
   "cell_type": "code",
   "execution_count": 1,
   "metadata": {
    "collapsed": false
   },
   "outputs": [
    {
     "name": "stdout",
     "output_type": "stream",
     "text": [
      "Conditional is true!!\n"
     ]
    }
   ],
   "source": [
    "if True:\n",
    "    print('Conditional is true!!')"
   ]
  },
  {
   "cell_type": "code",
   "execution_count": 2,
   "metadata": {
    "collapsed": true
   },
   "outputs": [],
   "source": [
    "if False:\n",
    "    print('Conditional is true!!')"
   ]
  },
  {
   "cell_type": "code",
   "execution_count": 3,
   "metadata": {
    "collapsed": false
   },
   "outputs": [
    {
     "name": "stdout",
     "output_type": "stream",
     "text": [
      "Conditional is true!!\n"
     ]
    }
   ],
   "source": [
    "materia = 'Chemistry'\n",
    "\n",
    "if materia == 'Chemistry':          # \"==\" tests for equality\n",
    "    print('Conditional is true!!')  # For numbers: >=, <, is, !=, etc..."
   ]
  },
  {
   "cell_type": "code",
   "execution_count": 4,
   "metadata": {
    "collapsed": false
   },
   "outputs": [
    {
     "name": "stdout",
     "output_type": "stream",
     "text": [
      "Subject is Chemistry\n"
     ]
    }
   ],
   "source": [
    "materia = 'Chemistry'\n",
    "\n",
    "if materia == 'Chemistry':          \n",
    "    print('Subject is Chemistry')\n",
    "else:\n",
    "    print('No subject recognised')"
   ]
  },
  {
   "cell_type": "code",
   "execution_count": 5,
   "metadata": {
    "collapsed": false
   },
   "outputs": [
    {
     "name": "stdout",
     "output_type": "stream",
     "text": [
      "No subject recognised\n"
     ]
    }
   ],
   "source": [
    "materia = 'Art'\n",
    "\n",
    "if materia == 'Chemistry':          \n",
    "    print('Subject is Chemistry')\n",
    "else:\n",
    "    print('No subject recognised')"
   ]
  },
  {
   "cell_type": "code",
   "execution_count": 8,
   "metadata": {
    "collapsed": false
   },
   "outputs": [
    {
     "name": "stdout",
     "output_type": "stream",
     "text": [
      "Subject is Art\n"
     ]
    }
   ],
   "source": [
    "materia = 'Art'\n",
    "\n",
    "if materia == 'Chemistry':          \n",
    "    print('Subject is Chemistry')\n",
    "elif materia == 'Art':           # Can add as many elif as possible\n",
    "    print('Subject is Art')\n",
    "else:\n",
    "    print('No subject recognised')"
   ]
  },
  {
   "cell_type": "markdown",
   "metadata": {},
   "source": [
    "### Testing Booleans"
   ]
  },
  {
   "cell_type": "code",
   "execution_count": 9,
   "metadata": {
    "collapsed": false
   },
   "outputs": [
    {
     "name": "stdout",
     "output_type": "stream",
     "text": [
      "All permisions allowed\n"
     ]
    }
   ],
   "source": [
    "usuario = 'Superuser'\n",
    "loggedin = True\n",
    "\n",
    "if usuario == 'Superuser' and loggedin:\n",
    "    print('All permisions allowed')\n",
    "else:\n",
    "    print('Not superuser')"
   ]
  },
  {
   "cell_type": "code",
   "execution_count": 10,
   "metadata": {
    "collapsed": false
   },
   "outputs": [
    {
     "name": "stdout",
     "output_type": "stream",
     "text": [
      "Not superuser\n"
     ]
    }
   ],
   "source": [
    "usuario = 'Superuser'\n",
    "loggedin = False\n",
    "\n",
    "if usuario == 'Superuser' and loggedin:\n",
    "    print('All permisions allowed')\n",
    "else:\n",
    "    print('Not superuser')"
   ]
  },
  {
   "cell_type": "code",
   "execution_count": 11,
   "metadata": {
    "collapsed": false
   },
   "outputs": [
    {
     "name": "stdout",
     "output_type": "stream",
     "text": [
      "All permisions allowed\n"
     ]
    }
   ],
   "source": [
    "usuario = 'Superuser'\n",
    "loggedin = False\n",
    "\n",
    "if usuario == 'Superuser' or loggedin: # only ONE option is enough to be true\n",
    "    print('All permisions allowed')\n",
    "else:\n",
    "    print('Not superuser')"
   ]
  },
  {
   "cell_type": "code",
   "execution_count": 13,
   "metadata": {
    "collapsed": false
   },
   "outputs": [
    {
     "name": "stdout",
     "output_type": "stream",
     "text": [
      "Please log in now\n"
     ]
    }
   ],
   "source": [
    "usuario = 'Superuser'\n",
    "loggedin = False\n",
    "\n",
    "if not loggedin:              # not False = True, so first option printed\n",
    "    print('Please log in now')\n",
    "else:\n",
    "    print('You\\'re now logged in')"
   ]
  },
  {
   "cell_type": "code",
   "execution_count": 14,
   "metadata": {
    "collapsed": false
   },
   "outputs": [
    {
     "name": "stdout",
     "output_type": "stream",
     "text": [
      "True\n"
     ]
    }
   ],
   "source": [
    "list1 = [7, 8, 9]\n",
    "list2 = [7, 8, 9]\n",
    "\n",
    "print(list1 == list2)"
   ]
  },
  {
   "cell_type": "code",
   "execution_count": 15,
   "metadata": {
    "collapsed": false
   },
   "outputs": [
    {
     "name": "stdout",
     "output_type": "stream",
     "text": [
      "False\n"
     ]
    }
   ],
   "source": [
    "list1 = [7, 8, 9]   # the two objects(lists) are equal but not the same in\n",
    "list2 = [7, 8, 9]   # memory, one can prove this with id\n",
    "\n",
    "print(list1 is list2)"
   ]
  },
  {
   "cell_type": "code",
   "execution_count": 18,
   "metadata": {
    "collapsed": false
   },
   "outputs": [
    {
     "name": "stdout",
     "output_type": "stream",
     "text": [
      "4482539912\n",
      "4482615368\n",
      "False\n"
     ]
    }
   ],
   "source": [
    "list1 = [7, 8, 9]   \n",
    "list2 = [7, 8, 9]   \n",
    "\n",
    "print(id(list1))\n",
    "print(id(list2))   \n",
    "print(list1 is list2)          # You see?"
   ]
  },
  {
   "cell_type": "code",
   "execution_count": 20,
   "metadata": {
    "collapsed": false
   },
   "outputs": [
    {
     "name": "stdout",
     "output_type": "stream",
     "text": [
      "4482614856\n",
      "4482614856\n",
      "True\n"
     ]
    }
   ],
   "source": [
    "list1 = [7, 8, 9]   \n",
    "list2 = [7, 8, 9]  \n",
    "\n",
    "list1 = list2\n",
    "\n",
    "print(id(list1))\n",
    "print(id(list2))   \n",
    "print(list1 is list2)         # Now they're same objects in memory"
   ]
  },
  {
   "cell_type": "code",
   "execution_count": 21,
   "metadata": {
    "collapsed": false
   },
   "outputs": [
    {
     "name": "stdout",
     "output_type": "stream",
     "text": [
      "4482688648\n",
      "4482688648\n",
      "True\n"
     ]
    }
   ],
   "source": [
    "list1 = [7, 8, 9]   \n",
    "list2 = [7, 8, 9]  \n",
    "\n",
    "list1 = list2\n",
    "\n",
    "print(id(list1))\n",
    "print(id(list2))   \n",
    "print(list1 == list2)         # Also equal"
   ]
  },
  {
   "cell_type": "code",
   "execution_count": 22,
   "metadata": {
    "collapsed": false
   },
   "outputs": [
    {
     "name": "stdout",
     "output_type": "stream",
     "text": [
      "4482614536\n",
      "4482614536\n",
      "True\n"
     ]
    }
   ],
   "source": [
    "list1 = [7, 8, 9]   \n",
    "list2 = [7, 8, 9]  \n",
    "\n",
    "list1 = list2\n",
    "\n",
    "print(id(list1))\n",
    "print(id(list2))   \n",
    "print(id(list1) == id(list2))         # Exactly the same as \"is\""
   ]
  },
  {
   "cell_type": "code",
   "execution_count": 24,
   "metadata": {
    "collapsed": false
   },
   "outputs": [
    {
     "name": "stdout",
     "output_type": "stream",
     "text": [
      "it is evaluated to false\n"
     ]
    }
   ],
   "source": [
    "Bedingung = False\n",
    "if Bedingung:\n",
    "    print('It is true')\n",
    "else:\n",
    "    print('it is evaluated to false')"
   ]
  },
  {
   "cell_type": "code",
   "execution_count": 25,
   "metadata": {
    "collapsed": false
   },
   "outputs": [
    {
     "name": "stdout",
     "output_type": "stream",
     "text": [
      "it is evaluated to false\n"
     ]
    }
   ],
   "source": [
    "Bedingung = None\n",
    "if Bedingung:\n",
    "    print('It is true')\n",
    "else:\n",
    "    print('it is evaluated to false')"
   ]
  },
  {
   "cell_type": "code",
   "execution_count": 26,
   "metadata": {
    "collapsed": false
   },
   "outputs": [
    {
     "name": "stdout",
     "output_type": "stream",
     "text": [
      "it is evaluated to false\n"
     ]
    }
   ],
   "source": [
    "Bedingung = 0\n",
    "if Bedingung:\n",
    "    print('It is true')\n",
    "else:\n",
    "    print('it is evaluated to false')"
   ]
  },
  {
   "cell_type": "code",
   "execution_count": 29,
   "metadata": {
    "collapsed": false
   },
   "outputs": [
    {
     "name": "stdout",
     "output_type": "stream",
     "text": [
      "It is true\n"
     ]
    }
   ],
   "source": [
    "Bedingung = 12923743563497      # any other number that is not zero\n",
    "if Bedingung:\n",
    "    print('It is true')\n",
    "else:\n",
    "    print('it is evaluated to false')"
   ]
  },
  {
   "cell_type": "code",
   "execution_count": 30,
   "metadata": {
    "collapsed": false
   },
   "outputs": [
    {
     "name": "stdout",
     "output_type": "stream",
     "text": [
      "it is evaluated to false\n"
     ]
    }
   ],
   "source": [
    "Bedingung = []          # an empty list, tuple or string\n",
    "if Bedingung:\n",
    "    print('It is true')\n",
    "else:\n",
    "    print('it is evaluated to false')"
   ]
  },
  {
   "cell_type": "code",
   "execution_count": 32,
   "metadata": {
    "collapsed": false
   },
   "outputs": [
    {
     "name": "stdout",
     "output_type": "stream",
     "text": [
      "it is evaluated to false\n"
     ]
    }
   ],
   "source": [
    "Bedingung = {}          # an empty mapping (an empty dictionary)\n",
    "if Bedingung:\n",
    "    print('It is true')\n",
    "else:\n",
    "    print('it is evaluated to false')"
   ]
  },
  {
   "cell_type": "code",
   "execution_count": 33,
   "metadata": {
    "collapsed": false
   },
   "outputs": [
    {
     "name": "stdout",
     "output_type": "stream",
     "text": [
      "It is true\n"
     ]
    }
   ],
   "source": [
    "Bedingung = 'Whatever 12312dcera89)$· hola'   # whatever else that is not \n",
    "if Bedingung:                                # evaluated asfalse, will be \n",
    "    print('It is true')                      # evaluated as true\n",
    "else: \n",
    "    print('it is evaluated to false')"
   ]
  },
  {
   "cell_type": "code",
   "execution_count": null,
   "metadata": {
    "collapsed": true
   },
   "outputs": [],
   "source": []
  }
 ],
 "metadata": {
  "kernelspec": {
   "display_name": "Python 3",
   "language": "python",
   "name": "python3"
  },
  "language_info": {
   "codemirror_mode": {
    "name": "ipython",
    "version": 3
   },
   "file_extension": ".py",
   "mimetype": "text/x-python",
   "name": "python",
   "nbconvert_exporter": "python",
   "pygments_lexer": "ipython3",
   "version": "3.5.4"
  }
 },
 "nbformat": 4,
 "nbformat_minor": 0
}
