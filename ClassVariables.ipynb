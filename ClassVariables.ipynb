{
 "cells": [
  {
   "cell_type": "markdown",
   "id": "72d79e84",
   "metadata": {},
   "source": [
    "# Class variables"
   ]
  },
  {
   "cell_type": "markdown",
   "id": "16ef30c1",
   "metadata": {},
   "source": [
    "### Variables that are shared among all instances of class. So while instance variables can be unique each instance, class variables should be the same for each instance."
   ]
  },
  {
   "cell_type": "code",
   "execution_count": 1,
   "id": "fd664b1b",
   "metadata": {},
   "outputs": [],
   "source": [
    "class Employee:\n",
    "    \n",
    "    def __init__(self, first, last, pay):\n",
    "        self.first = first                              #instance variables using 'self' argument\n",
    "        self.last = last\n",
    "        self.pay = pay\n",
    "        self.email = first + '.' + last + '@company.com'\n",
    "        \n",
    "    def fullname(self):\n",
    "        return '{} {}'.format(self.first, self.last)\n",
    "    \n",
    "    \n",
    "emp_1 = Employee('Corey', 'Schafer', 50000)\n",
    "emp_2 = Employee('Test', 'User', 60000)"
   ]
  },
  {
   "cell_type": "markdown",
   "id": "4d9a9486",
   "metadata": {},
   "source": [
    "### If the company gives annual raises of 4%:"
   ]
  },
  {
   "cell_type": "code",
   "execution_count": 10,
   "id": "56ada92c",
   "metadata": {},
   "outputs": [
    {
     "name": "stdout",
     "output_type": "stream",
     "text": [
      "50000\n",
      "52000\n"
     ]
    }
   ],
   "source": [
    "class Employee:\n",
    "    \n",
    "    def __init__(self, first, last, pay):\n",
    "        self.first = first                              \n",
    "        self.last = last\n",
    "        self.pay = pay\n",
    "        self.email = first + '.' + last + '@company.com'\n",
    "        \n",
    "    def fullname(self):\n",
    "        return '{} {}'.format(self.first, self.last)\n",
    "    \n",
    "    def apply_raise(self):\n",
    "        self.pay = int(self.pay * 1.04)\n",
    "    \n",
    "    \n",
    "emp_1 = Employee('Corey', 'Schafer', 50000)\n",
    "emp_2 = Employee('Test', 'User', 60000)\n",
    "\n",
    "print(emp_1.pay)\n",
    "emp_1.apply_raise()\n",
    "print(emp_1.pay)"
   ]
  },
  {
   "cell_type": "markdown",
   "id": "054974f3",
   "metadata": {},
   "source": [
    "### Let's have access to the raise amount through a variable for emp_1 and the entire class and writing  a class variable for the raise (accesed through either the class itself, 'Employee', or an instance of the class):"
   ]
  },
  {
   "cell_type": "code",
   "execution_count": 14,
   "id": "c9d4ab80",
   "metadata": {},
   "outputs": [
    {
     "name": "stdout",
     "output_type": "stream",
     "text": [
      "50000\n",
      "52000\n"
     ]
    }
   ],
   "source": [
    "class Employee:\n",
    "    \n",
    "    raise_amount = 1.04\n",
    "    \n",
    "    def __init__(self, first, last, pay):\n",
    "        self.first = first                              \n",
    "        self.last = last\n",
    "        self.pay = pay\n",
    "        self.email = first + '.' + last + '@company.com'\n",
    "        \n",
    "    def fullname(self):\n",
    "        return '{} {}'.format(self.first, self.last)\n",
    "    \n",
    "    def apply_raise(self):\n",
    "        self.pay = int(self.pay * self.raise_amount)      # or 'Employee.raise_amount' instead of self\n",
    "    \n",
    "    \n",
    "emp_1 = Employee('Corey', 'Schafer', 50000)\n",
    "emp_2 = Employee('Test', 'User', 60000)\n",
    "\n",
    "print(emp_1.pay)\n",
    "emp_1.apply_raise()\n",
    "print(emp_1.pay)"
   ]
  },
  {
   "cell_type": "code",
   "execution_count": 15,
   "id": "0695bc17",
   "metadata": {},
   "outputs": [
    {
     "name": "stdout",
     "output_type": "stream",
     "text": [
      "1.04\n",
      "1.04\n",
      "1.04\n"
     ]
    }
   ],
   "source": [
    "class Employee:\n",
    "    \n",
    "    raise_amount = 1.04\n",
    "    \n",
    "    def __init__(self, first, last, pay):\n",
    "        self.first = first                              \n",
    "        self.last = last\n",
    "        self.pay = pay\n",
    "        self.email = first + '.' + last + '@company.com'\n",
    "        \n",
    "    def fullname(self):\n",
    "        return '{} {}'.format(self.first, self.last)\n",
    "    \n",
    "    def apply_raise(self):\n",
    "        self.pay = int(self.pay * self.raise_amount)      # or 'Employee.raise_amount' instead of self\n",
    "    \n",
    "    \n",
    "emp_1 = Employee('Corey', 'Schafer', 50000)\n",
    "emp_2 = Employee('Test', 'User', 60000)\n",
    "\n",
    "print(Employee.raise_amount)\n",
    "print(emp_1.raise_amount)\n",
    "print(emp_2.raise_amount)"
   ]
  },
  {
   "cell_type": "markdown",
   "id": "218cf642",
   "metadata": {},
   "source": [
    "### One can access this class variable from both, the class itself as well as from both instances. Here, when trying to access an attribute on an instance, it will check if the instance contains that attribute, and if it doesn't, it will see if the class or any class that it inherits from contains that attribute. So when accesing 'raise_amount' from the instances at the end, they don't actually have that attribute themselves, they're accessing the class's 'raise_amount' attribute.\n",
    "\n",
    "Check the difference when printing emp_1 and Employee:"
   ]
  },
  {
   "cell_type": "code",
   "execution_count": 17,
   "id": "343dcf0e",
   "metadata": {},
   "outputs": [
    {
     "name": "stdout",
     "output_type": "stream",
     "text": [
      "{'first': 'Corey', 'last': 'Schafer', 'pay': 50000, 'email': 'Corey.Schafer@company.com'}\n"
     ]
    }
   ],
   "source": [
    "class Employee:\n",
    "    \n",
    "    raise_amount = 1.04\n",
    "    \n",
    "    def __init__(self, first, last, pay):\n",
    "        self.first = first                              \n",
    "        self.last = last\n",
    "        self.pay = pay\n",
    "        self.email = first + '.' + last + '@company.com'\n",
    "        \n",
    "    def fullname(self):\n",
    "        return '{} {}'.format(self.first, self.last)\n",
    "    \n",
    "    def apply_raise(self):\n",
    "        self.pay = int(self.pay * self.raise_amount)      # or 'Employee.raise_amount' instead of self\n",
    "    \n",
    "    \n",
    "emp_1 = Employee('Corey', 'Schafer', 50000)\n",
    "emp_2 = Employee('Test', 'User', 60000)\n",
    "\n",
    "print(emp_1.__dict__)"
   ]
  },
  {
   "cell_type": "markdown",
   "id": "ade4f35d",
   "metadata": {},
   "source": [
    "There's no 'raise_amount', and now:"
   ]
  },
  {
   "cell_type": "code",
   "execution_count": 18,
   "id": "64445ed8",
   "metadata": {},
   "outputs": [
    {
     "name": "stdout",
     "output_type": "stream",
     "text": [
      "{'__module__': '__main__', 'raise_amount': 1.04, '__init__': <function Employee.__init__ at 0x7f19d0773dc0>, 'fullname': <function Employee.fullname at 0x7f19d0773d30>, 'apply_raise': <function Employee.apply_raise at 0x7f19d0773f70>, '__dict__': <attribute '__dict__' of 'Employee' objects>, '__weakref__': <attribute '__weakref__' of 'Employee' objects>, '__doc__': None}\n"
     ]
    }
   ],
   "source": [
    "class Employee:\n",
    "    \n",
    "    raise_amount = 1.04\n",
    "    \n",
    "    def __init__(self, first, last, pay):\n",
    "        self.first = first                              \n",
    "        self.last = last\n",
    "        self.pay = pay\n",
    "        self.email = first + '.' + last + '@company.com'\n",
    "        \n",
    "    def fullname(self):\n",
    "        return '{} {}'.format(self.first, self.last)\n",
    "    \n",
    "    def apply_raise(self):\n",
    "        self.pay = int(self.pay * self.raise_amount)      # or 'Employee.raise_amount' instead of self\n",
    "    \n",
    "    \n",
    "emp_1 = Employee('Corey', 'Schafer', 50000)\n",
    "emp_2 = Employee('Test', 'User', 60000)\n",
    "\n",
    "print(Employee.__dict__)"
   ]
  },
  {
   "cell_type": "markdown",
   "id": "89d3cf11",
   "metadata": {},
   "source": [
    "The class does contain the 'raise_amount' attribute, which is the value that the instances see when accessing the 'raise_amount' attribute from the instances."
   ]
  },
  {
   "cell_type": "markdown",
   "id": "c17f9704",
   "metadata": {},
   "source": [
    "Using a different raise amount for the class changes the raise amount for the class and all of the instances:"
   ]
  },
  {
   "cell_type": "code",
   "execution_count": 19,
   "id": "f02e2e25",
   "metadata": {},
   "outputs": [
    {
     "name": "stdout",
     "output_type": "stream",
     "text": [
      "1.05\n",
      "1.05\n",
      "1.05\n"
     ]
    }
   ],
   "source": [
    "class Employee:\n",
    "    \n",
    "    raise_amount = 1.04\n",
    "    \n",
    "    def __init__(self, first, last, pay):\n",
    "        self.first = first                              \n",
    "        self.last = last\n",
    "        self.pay = pay\n",
    "        self.email = first + '.' + last + '@company.com'\n",
    "        \n",
    "    def fullname(self):\n",
    "        return '{} {}'.format(self.first, self.last)\n",
    "    \n",
    "    def apply_raise(self):\n",
    "        self.pay = int(self.pay * self.raise_amount)      # or 'Employee.raise_amount' instead of self\n",
    "    \n",
    "    \n",
    "emp_1 = Employee('Corey', 'Schafer', 50000)\n",
    "emp_2 = Employee('Test', 'User', 60000)\n",
    "\n",
    "Employee.raise_amount = 1.05\n",
    "\n",
    "print(Employee.raise_amount)\n",
    "print(emp_1.raise_amount)\n",
    "print(emp_2.raise_amount)"
   ]
  },
  {
   "cell_type": "markdown",
   "id": "0a2af95f",
   "metadata": {},
   "source": [
    "And now, using an instance instead of the class to set the raise amount:"
   ]
  },
  {
   "cell_type": "code",
   "execution_count": 20,
   "id": "824ae56e",
   "metadata": {},
   "outputs": [
    {
     "name": "stdout",
     "output_type": "stream",
     "text": [
      "1.04\n",
      "1.05\n",
      "1.04\n"
     ]
    }
   ],
   "source": [
    "class Employee:\n",
    "    \n",
    "    raise_amount = 1.04\n",
    "    \n",
    "    def __init__(self, first, last, pay):\n",
    "        self.first = first                              \n",
    "        self.last = last\n",
    "        self.pay = pay\n",
    "        self.email = first + '.' + last + '@company.com'\n",
    "        \n",
    "    def fullname(self):\n",
    "        return '{} {}'.format(self.first, self.last)\n",
    "    \n",
    "    def apply_raise(self):\n",
    "        self.pay = int(self.pay * self.raise_amount)      # or 'Employee.raise_amount' instead of self\n",
    "    \n",
    "    \n",
    "emp_1 = Employee('Corey', 'Schafer', 50000)\n",
    "emp_2 = Employee('Test', 'User', 60000)\n",
    "\n",
    "emp_1.raise_amount = 1.05\n",
    "\n",
    "print(Employee.raise_amount)\n",
    "print(emp_1.raise_amount)\n",
    "print(emp_2.raise_amount)"
   ]
  },
  {
   "cell_type": "markdown",
   "id": "128463b6",
   "metadata": {},
   "source": [
    "It only affects 'emp_1'  because  that raise of 1.05 was specified only for it and the attribute 'raise_amount' for it isn't searched above, which happens with emp_2."
   ]
  },
  {
   "cell_type": "code",
   "execution_count": 21,
   "id": "a6f58ef0",
   "metadata": {},
   "outputs": [
    {
     "name": "stdout",
     "output_type": "stream",
     "text": [
      "{'first': 'Corey', 'last': 'Schafer', 'pay': 50000, 'email': 'Corey.Schafer@company.com', 'raise_amount': 1.05}\n"
     ]
    }
   ],
   "source": [
    "print(emp_1.__dict__)            # to see the teh 'raise_amount' of 'emp_1' "
   ]
  },
  {
   "cell_type": "markdown",
   "id": "43842435",
   "metadata": {},
   "source": [
    "So we can get different results depending on whether we did the 'self', which is the instance raise amount, or the 'Employee' class raise amount. Leaving the 'self.raise_amount' will give us the ability to change that amount for a single instance if we really wanted to. So, if one wants to change 'emp_1' raise amount, then one can go ahead and do that; and when one uses 'apply_raise', then it will use the emplyee one raise amount instead of the classes raise amount. Also, using 'self' in 'apply_raise' will allow any subclass to override that constant if that is wanted to."
   ]
  },
  {
   "cell_type": "markdown",
   "id": "8b81076c",
   "metadata": {},
   "source": [
    "Now, an example where 'self' doesn't make sense: tracking the number of employees:"
   ]
  },
  {
   "cell_type": "code",
   "execution_count": 23,
   "id": "26cd7224",
   "metadata": {},
   "outputs": [
    {
     "name": "stdout",
     "output_type": "stream",
     "text": [
      "0\n",
      "2\n"
     ]
    }
   ],
   "source": [
    "class Employee:\n",
    "    \n",
    "    num_of_emps = 0\n",
    "    raise_amount = 1.04\n",
    "    \n",
    "    def __init__(self, first, last, pay):\n",
    "        self.first = first                              \n",
    "        self.last = last\n",
    "        self.pay = pay\n",
    "        self.email = first + '.' + last + '@company.com'\n",
    "        \n",
    "        Employee.num_of_emps += 1\n",
    "        \n",
    "    def fullname(self):\n",
    "        return '{} {}'.format(self.first, self.last)\n",
    "    \n",
    "    def apply_raise(self):\n",
    "        self.pay = int(self.pay * self.raise_amount)      # or 'Employee.raise_amount' instead of self\n",
    "    \n",
    "print(Employee.num_of_emps)\n",
    "\n",
    "emp_1 = Employee('Corey', 'Schafer', 50000)\n",
    "emp_2 = Employee('Test', 'User', 60000)\n",
    "\n",
    "print(Employee.num_of_emps)"
   ]
  },
  {
   "cell_type": "markdown",
   "id": "82766b06",
   "metadata": {},
   "source": [
    "It prints 0 and 2 because it was incremented twice when instantiating both of the employees in the last part."
   ]
  },
  {
   "cell_type": "code",
   "execution_count": null,
   "id": "1cd13ee3",
   "metadata": {},
   "outputs": [],
   "source": []
  }
 ],
 "metadata": {
  "kernelspec": {
   "display_name": "Python 3 (ipykernel)",
   "language": "python",
   "name": "python3"
  },
  "language_info": {
   "codemirror_mode": {
    "name": "ipython",
    "version": 3
   },
   "file_extension": ".py",
   "mimetype": "text/x-python",
   "name": "python",
   "nbconvert_exporter": "python",
   "pygments_lexer": "ipython3",
   "version": "3.9.12"
  }
 },
 "nbformat": 4,
 "nbformat_minor": 5
}
