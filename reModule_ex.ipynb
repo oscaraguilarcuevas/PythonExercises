{
 "cells": [
  {
   "cell_type": "code",
   "execution_count": 3,
   "metadata": {
    "collapsed": false
   },
   "outputs": [],
   "source": [
    "import re"
   ]
  },
  {
   "cell_type": "code",
   "execution_count": 22,
   "metadata": {
    "collapsed": false
   },
   "outputs": [
    {
     "data": {
      "text/plain": [
       "['N', 'O', 'T', 'E', 'R', 'I', 'N', 'D', 'A', 'S']"
      ]
     },
     "execution_count": 22,
     "metadata": {},
     "output_type": "execute_result"
    }
   ],
   "source": [
    "text = \"\"\"NO TE RINDAS, aun estas a tiempo\n",
    "de alcanzar y comenzar de nuevo,\"\"\"\n",
    "\n",
    "re.findall(\"[A-Z]\", text)"
   ]
  },
  {
   "cell_type": "code",
   "execution_count": 24,
   "metadata": {
    "collapsed": false
   },
   "outputs": [
    {
     "data": {
      "text/plain": [
       "['´']"
      ]
     },
     "execution_count": 24,
     "metadata": {},
     "output_type": "execute_result"
    }
   ],
   "source": [
    "text = \"\"\"NO TE RINDAS, aun est´as a tiempo\n",
    "de alcanzar y comenzar de nuevo,\"\"\"\n",
    "\n",
    "re.findall(\"[\\´]\", text)"
   ]
  },
  {
   "cell_type": "code",
   "execution_count": 26,
   "metadata": {
    "collapsed": false
   },
   "outputs": [
    {
     "data": {
      "text/plain": [
       "['7', '5']"
      ]
     },
     "execution_count": 26,
     "metadata": {},
     "output_type": "execute_result"
    }
   ],
   "source": [
    "text = \"\"\"NO TE RINDAS, aun est´as a 7.5 tiempo\n",
    "de alcanzar y comenzar de nuevo,\"\"\"\n",
    "\n",
    "re.findall(\"[0-9]\", text)"
   ]
  },
  {
   "cell_type": "markdown",
   "metadata": {},
   "source": [
    "### Filtering results with characters, numbers, etc."
   ]
  },
  {
   "cell_type": "code",
   "execution_count": 65,
   "metadata": {
    "collapsed": false
   },
   "outputs": [
    {
     "data": {
      "text/plain": [
       "['0O0O0O´']"
      ]
     },
     "execution_count": 65,
     "metadata": {},
     "output_type": "execute_result"
    }
   ],
   "source": [
    "data = ['7', '789mi', 'whatEvEr7', 'ASCII111', '0O0O0O´', 'OOOOOO', 'h34t', 'TRUE']\n",
    "\n",
    "filtered = [i for i in data if re.search('\\´', i) is not None]\n",
    "filtered"
   ]
  },
  {
   "cell_type": "code",
   "execution_count": 85,
   "metadata": {
    "collapsed": false
   },
   "outputs": [
    {
     "data": {
      "text/plain": [
       "['7', '789mi', 'whatEvEr7', 'ASCII111', '0O0O0O´', 'h34t']"
      ]
     },
     "execution_count": 85,
     "metadata": {},
     "output_type": "execute_result"
    }
   ],
   "source": [
    "data = ['7', '789mi', 'whatEvEr7', 'ASCII111', '0O0O0O´', 'OOOOOO', 'h34t', 'TRUE', '']\n",
    "\n",
    "filtered = [i for i in data if re.search('\\d', i) is not None] # all elements contaning a number\n",
    "filtered"
   ]
  },
  {
   "cell_type": "code",
   "execution_count": 69,
   "metadata": {
    "collapsed": false
   },
   "outputs": [
    {
     "data": {
      "text/plain": [
       "['7', '789mi', 'whatEvEr7']"
      ]
     },
     "execution_count": 69,
     "metadata": {},
     "output_type": "execute_result"
    }
   ],
   "source": [
    "data = ['7', '789mi', 'whatEvEr7', 'ASCII111', '0O0O0O´', 'OOOOOO', 'h34t', 'TRUE']\n",
    "\n",
    "filtered = [i for i in data if re.search('7', i) is not None] # which contain 7\n",
    "filtered"
   ]
  },
  {
   "cell_type": "code",
   "execution_count": 84,
   "metadata": {
    "collapsed": false
   },
   "outputs": [
    {
     "data": {
      "text/plain": [
       "['789mi', 'whatEvEr7', 'h34t']"
      ]
     },
     "execution_count": 84,
     "metadata": {},
     "output_type": "execute_result"
    }
   ],
   "source": [
    "data = ['7', '789mi', 'whatEvEr7', 'ASCII111', '0O0O0O´', 'OOOOOO', 'h34t', 'TRUE', '']\n",
    "\n",
    "[x for x in data if re.search(\"(?=.*\\d)(?=.*[a-z]).*\", x) is not None] # at least 1 digit and 1 lower case"
   ]
  },
  {
   "cell_type": "code",
   "execution_count": 89,
   "metadata": {
    "collapsed": false
   },
   "outputs": [
    {
     "data": {
      "text/plain": [
       "['whatEvEr7', 'ASCII111', '0O0O0O´']"
      ]
     },
     "execution_count": 89,
     "metadata": {},
     "output_type": "execute_result"
    }
   ],
   "source": [
    "data = ['7', '789mi', 'whatEvEr7', 'ASCII111', '0O0O0O´', 'OOOOOO', 'h34t', 'TRUE', '']\n",
    "\n",
    "[x for x in data if re.search(\"(?=.*\\d)(?=.*[A-Z]).*\", x) is not None] # at least 1 digit and 1 upper case"
   ]
  },
  {
   "cell_type": "code",
   "execution_count": null,
   "metadata": {
    "collapsed": true
   },
   "outputs": [],
   "source": []
  }
 ],
 "metadata": {
  "kernelspec": {
   "display_name": "Python 3",
   "language": "python",
   "name": "python3"
  }
 },
 "nbformat": 4,
 "nbformat_minor": 0
}
