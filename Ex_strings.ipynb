{
 "cells": [
  {
   "cell_type": "code",
   "execution_count": 6,
   "metadata": {
    "collapsed": true
   },
   "outputs": [],
   "source": [
    "import re"
   ]
  },
  {
   "cell_type": "code",
   "execution_count": 7,
   "metadata": {
    "collapsed": false
   },
   "outputs": [],
   "source": [
    "str_list = ['This','is','a','list','of','7','strings']"
   ]
  },
  {
   "cell_type": "code",
   "execution_count": 3,
   "metadata": {
    "collapsed": true
   },
   "outputs": [],
   "source": [
    "output = ' '.join(str_list)+'.'   # Combining strings to make a sentence sep by spaces and a final dot"
   ]
  },
  {
   "cell_type": "code",
   "execution_count": 4,
   "metadata": {
    "collapsed": false
   },
   "outputs": [
    {
     "data": {
      "text/plain": [
       "'This is a list of 7 strings.'"
      ]
     },
     "execution_count": 4,
     "metadata": {},
     "output_type": "execute_result"
    }
   ],
   "source": [
    "output"
   ]
  },
  {
   "cell_type": "code",
   "execution_count": 106,
   "metadata": {
    "collapsed": false
   },
   "outputs": [
    {
     "name": "stdout",
     "output_type": "stream",
     "text": [
      "This is a list of 7 strings.\n"
     ]
    }
   ],
   "source": [
    "output = ''                         # One must explicitly write output, otherwise it's repeated\n",
    "for e in str_list[:-1]:             # For loop from left until element -2\n",
    "    output = output + e + ' '       # Include every element and a space after it\n",
    "output = output + str_list[-1] + '.' # Include the element -1 cuz it's missing and a dot\n",
    "print(output)                       # print the complete output"
   ]
  },
  {
   "cell_type": "code",
   "execution_count": 114,
   "metadata": {
    "collapsed": false
   },
   "outputs": [
    {
     "name": "stdout",
     "output_type": "stream",
     "text": [
      "Thisisalistof7strings\n"
     ]
    }
   ],
   "source": [
    "my_list = \"\"            # One must explicitly write this\n",
    "for elem in str_list:\n",
    "    my_list += elem     # Adding each elements of the list\n",
    "print(my_list)"
   ]
  },
  {
   "cell_type": "code",
   "execution_count": 66,
   "metadata": {
    "collapsed": false
   },
   "outputs": [
    {
     "data": {
      "text/plain": [
       "'Supermarket list: Curd, Chocolate, lentils, camembert, Soap, Coffee, coconut oil.'"
      ]
     },
     "execution_count": 66,
     "metadata": {},
     "output_type": "execute_result"
    }
   ],
   "source": [
    "super_list = ['Curd', 'Chocolate', 'lentils', 'camembert', 'Soap', 'Coffee', 'coconut oil']\n",
    "\n",
    "output = 'Supermarket list: '\n",
    "for item in super_list[:-1]:\n",
    "        output = output + item + ', '\n",
    "output = output + super_list[-1] + '.'\n",
    "output"
   ]
  },
  {
   "cell_type": "code",
   "execution_count": 169,
   "metadata": {
    "collapsed": false
   },
   "outputs": [
    {
     "data": {
      "text/plain": [
       "'Supermarket list: camembert, coconut oil.'"
      ]
     },
     "execution_count": 169,
     "metadata": {},
     "output_type": "execute_result"
    }
   ],
   "source": [
    "super_list = ['Curd', 'Chocolate', 'lentils', 'camembert', 'Soap', 'Coffee', 'coconut oil']\n",
    "\n",
    "output = 'Supermarket list: '\n",
    "for item in super_list[:-1]:\n",
    "    if item[0] == 'c':                        # Take out words with 'c'\n",
    "        output = output + item + ', '\n",
    "if super_list[-1][0] == 'c':                  # Add element -1 with a 'c' in its element 0 (initial)\n",
    "    output = output + super_list[-1] + '.'\n",
    "output"
   ]
  },
  {
   "cell_type": "code",
   "execution_count": 143,
   "metadata": {
    "collapsed": false
   },
   "outputs": [
    {
     "data": {
      "text/plain": [
       "'Supermarket list: curd, chocolate, camembert, coffee, coconut oil.'"
      ]
     },
     "execution_count": 143,
     "metadata": {},
     "output_type": "execute_result"
    }
   ],
   "source": [
    "super_list = ['Curd', 'Chocolate', 'lentils', 'camembert', 'Soap', 'Coffee', 'coconut oil']\n",
    "\n",
    "output = 'Supermarket list: '\n",
    "for item in super_list[:-1]:\n",
    "    if item.lower()[0] == 'c':               # Take out words with c AND substitute capital C\n",
    "        output = output + item.lower() + ', '\n",
    "if super_list[-1].lower()[0] == 'c':\n",
    "    output = output + super_list[-1] + '.'\n",
    "output"
   ]
  },
  {
   "cell_type": "code",
   "execution_count": null,
   "metadata": {
    "collapsed": true
   },
   "outputs": [],
   "source": []
  },
  {
   "cell_type": "code",
   "execution_count": null,
   "metadata": {
    "collapsed": true
   },
   "outputs": [],
   "source": []
  }
 ],
 "metadata": {
  "kernelspec": {
   "display_name": "Python 3",
   "language": "python",
   "name": "python3"
  },
  "language_info": {
   "codemirror_mode": {
    "name": "ipython",
    "version": 3
   },
   "file_extension": ".py",
   "mimetype": "text/x-python",
   "name": "python",
   "nbconvert_exporter": "python",
   "pygments_lexer": "ipython3",
   "version": "3.5.4"
  }
 },
 "nbformat": 4,
 "nbformat_minor": 0
}
