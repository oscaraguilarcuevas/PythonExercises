{
 "cells": [
  {
   "cell_type": "markdown",
   "metadata": {},
   "source": [
    "# Separate strings"
   ]
  },
  {
   "cell_type": "code",
   "execution_count": 78,
   "metadata": {
    "collapsed": false
   },
   "outputs": [
    {
     "data": {
      "text/plain": [
       "['NO', 'TE', 'RINDAS', '', 'aun', 'estas', 'a', 'tiempo']"
      ]
     },
     "execution_count": 78,
     "metadata": {},
     "output_type": "execute_result"
    }
   ],
   "source": [
    "text = \"\"\"NO TE RINDAS, aun estas a tiempo\"\"\"\n",
    "\n",
    "text_list = text.replace(\",\", \" \").replace(\".\", \" \").replace(\"\\n\", \" \").split(\" \")\n",
    "\n",
    "\n",
    "text_list"
   ]
  },
  {
   "cell_type": "code",
   "execution_count": 79,
   "metadata": {
    "collapsed": false
   },
   "outputs": [
    {
     "data": {
      "text/plain": [
       "['no', 'te', 'rindas', '', 'aun', 'estas', 'a', 'tiempo']"
      ]
     },
     "execution_count": 79,
     "metadata": {},
     "output_type": "execute_result"
    }
   ],
   "source": [
    "text = \"\"\"NO TE RINDAS, aun estas a tiempo\"\"\"\n",
    "\n",
    "text_list = text.replace(\",\", \" \").replace(\".\", \" \").replace(\"\\n\", \" \").split(\" \")\n",
    "text_list = [t.lower() for t in text_list]\n",
    "\n",
    "text_list"
   ]
  },
  {
   "cell_type": "code",
   "execution_count": 77,
   "metadata": {
    "collapsed": false
   },
   "outputs": [
    {
     "data": {
      "text/plain": [
       "['no', 'te', 'rindas', '', 'aun', 'estas', 'a', 'tiempo', 'de', '', '']"
      ]
     },
     "execution_count": 77,
     "metadata": {},
     "output_type": "execute_result"
    }
   ],
   "source": [
    "text = \"\"\"NO TE RINDAS, aun estas a tiempo\n",
    "de .\"\"\"\n",
    "\n",
    "text_list = text.replace(\",\", \" \").replace(\".\", \" \").replace(\"\\n\", \" \").split(\" \")\n",
    "text_list = [t.lower() for t in text_list]\n",
    "\n",
    "text_list"
   ]
  },
  {
   "cell_type": "code",
   "execution_count": 82,
   "metadata": {
    "collapsed": false
   },
   "outputs": [
    {
     "data": {
      "text/plain": [
       "{'a': 1,\n",
       " 'aceptar': 1,\n",
       " 'alcanzar': 1,\n",
       " 'aun': 1,\n",
       " 'cielo': 1,\n",
       " 'comenzar': 1,\n",
       " 'continuar': 1,\n",
       " 'correr': 1,\n",
       " 'de': 2,\n",
       " 'destapar': 1,\n",
       " 'destrabar': 1,\n",
       " 'el': 5,\n",
       " 'enterrar': 1,\n",
       " 'es': 1,\n",
       " 'escombros': 1,\n",
       " 'eso': 1,\n",
       " 'estas': 1,\n",
       " 'la': 1,\n",
       " 'lastre': 1,\n",
       " 'liberar': 1,\n",
       " 'los': 1,\n",
       " 'miedos': 1,\n",
       " 'no': 2,\n",
       " 'nuevo': 1,\n",
       " 'perseguir': 1,\n",
       " 'que': 1,\n",
       " 'retomar': 1,\n",
       " 'rindas': 2,\n",
       " 'sombras': 1,\n",
       " 'sueños': 1,\n",
       " 'te': 2,\n",
       " 'tiempo': 2,\n",
       " 'tus': 3,\n",
       " 'viaje': 1,\n",
       " 'vida': 1,\n",
       " 'vuelo': 1,\n",
       " 'y': 2}"
      ]
     },
     "execution_count": 82,
     "metadata": {},
     "output_type": "execute_result"
    }
   ],
   "source": [
    "text = \"\"\"NO TE RINDAS, aun estas a tiempo\n",
    "de alcanzar y comenzar de nuevo,\n",
    "aceptar tus sombras, enterrar tus miedos,\n",
    "liberar el lastre, retomar el vuelo.\n",
    "\n",
    "NO TE RINDAS que la vida es eso,\n",
    "continuar el viaje,\n",
    "perseguir tus sueños,\n",
    "destrabar el tiempo,\n",
    "correr los escombros y destapar el cielo.\"\"\"\n",
    "\n",
    "text_list = text.replace(\",\", \" \").replace(\".\", \" \").replace(\"\\n\", \" \").split(\" \")\n",
    "text_list = [t.lower() for t in text_list]\n",
    "text_dict = {}\n",
    "for t in text_list:\n",
    "    if t not in text_dict.keys():\n",
    "        text_dict[t] = 1\n",
    "    else:\n",
    "        text_dict[t] = text_dict[t] + 1\n",
    "        \n",
    "del text_dict['']\n",
    "\n",
    "text_dict"
   ]
  },
  {
   "cell_type": "code",
   "execution_count": null,
   "metadata": {
    "collapsed": true
   },
   "outputs": [],
   "source": []
  },
  {
   "cell_type": "code",
   "execution_count": null,
   "metadata": {
    "collapsed": true
   },
   "outputs": [],
   "source": []
  }
 ],
 "metadata": {
  "kernelspec": {
   "display_name": "Python 3",
   "language": "python",
   "name": "python3"
  },
  "language_info": {
   "codemirror_mode": {
    "name": "ipython",
    "version": 3
   },
   "file_extension": ".py",
   "mimetype": "text/x-python",
   "name": "python",
   "nbconvert_exporter": "python",
   "pygments_lexer": "ipython3",
   "version": "3.5.4"
  }
 },
 "nbformat": 4,
 "nbformat_minor": 0
}
