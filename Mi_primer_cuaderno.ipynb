{
 "cells": [
  {
   "cell_type": "markdown",
   "metadata": {},
   "source": [
    "# MI primer cuaderno\n",
    "## con doble gato\n",
    "### Con triple gato\n",
    "\n",
    "Escribiendo normal:\n",
    "- viñeta\n",
    "- lista ahora en **negritas**\n",
    "\n",
    "|[Imagen](http://wandora.org/w/images/Random_graph_generator_dist.gif)"
   ]
  },
  {
   "cell_type": "code",
   "execution_count": null,
   "metadata": {
    "collapsed": false
   },
   "outputs": [],
   "source": [
    "print(\"Éste es el bloque 1\")\n",
    "x = 10\n",
    "\n",
    "print(\"Este es el bloque 2\")\n",
    "print(\"Variable x:\", X)"
   ]
  },
  {
   "cell_type": "code",
   "execution_count": null,
   "metadata": {
    "collapsed": true
   },
   "outputs": [],
   "source": []
  },
  {
   "cell_type": "code",
   "execution_count": null,
   "metadata": {
    "collapsed": false
   },
   "outputs": [],
   "source": [
    "print(\"Éste es el bloque 1\")\n",
    "x = 10\n",
    "\n",
    "print(\"Este es el bloque 2\")\n",
    "print(\"Variable x:\", X)"
   ]
  },
  {
   "cell_type": "code",
   "execution_count": null,
   "metadata": {
    "collapsed": true
   },
   "outputs": [],
   "source": []
  }
 ],
 "metadata": {
  "kernelspec": {
   "display_name": "Python 3",
   "language": "python",
   "name": "python3"
  },
  "language_info": {
   "codemirror_mode": {
    "name": "ipython",
    "version": 3
   },
   "file_extension": ".py",
   "mimetype": "text/x-python",
   "name": "python",
   "nbconvert_exporter": "python",
   "pygments_lexer": "ipython3",
   "version": "3.5.4"
  }
 },
 "nbformat": 4,
 "nbformat_minor": 0
}
