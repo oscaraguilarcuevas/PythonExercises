{
 "cells": [
  {
   "cell_type": "code",
   "execution_count": 7,
   "metadata": {
    "collapsed": false
   },
   "outputs": [
    {
     "name": "stdout",
     "output_type": "stream",
     "text": [
      "{'materias': ['Math', 'Physics'], 'age': '20', 'name': 'Juan'}\n"
     ]
    }
   ],
   "source": [
    "estudiante = {'name': 'Juan', 'age': '20', 'materias': ['Math', 'Physics']}\n",
    "print(estudiante)            # materias is a list"
   ]
  },
  {
   "cell_type": "code",
   "execution_count": 9,
   "metadata": {
    "collapsed": false
   },
   "outputs": [
    {
     "name": "stdout",
     "output_type": "stream",
     "text": [
      "20\n"
     ]
    }
   ],
   "source": [
    "print(estudiante['age'])"
   ]
  },
  {
   "cell_type": "code",
   "execution_count": 10,
   "metadata": {
    "collapsed": false
   },
   "outputs": [
    {
     "name": "stdout",
     "output_type": "stream",
     "text": [
      "None\n"
     ]
    }
   ],
   "source": [
    "print(estudiante.get('ciudad')) # cuz it doesn't exist"
   ]
  },
  {
   "cell_type": "code",
   "execution_count": 11,
   "metadata": {
    "collapsed": false
   },
   "outputs": [
    {
     "name": "stdout",
     "output_type": "stream",
     "text": [
      "Not registered in the dictionary\n"
     ]
    }
   ],
   "source": [
    "print(estudiante.get('ciudad', 'Not registered in the dictionary'))"
   ]
  },
  {
   "cell_type": "code",
   "execution_count": 12,
   "metadata": {
    "collapsed": false
   },
   "outputs": [
    {
     "name": "stdout",
     "output_type": "stream",
     "text": [
      "20\n"
     ]
    }
   ],
   "source": [
    "print(estudiante.get('age')) # returns the value instead of \"True\""
   ]
  },
  {
   "cell_type": "code",
   "execution_count": 13,
   "metadata": {
    "collapsed": false
   },
   "outputs": [
    {
     "name": "stdout",
     "output_type": "stream",
     "text": [
      "{'cel': '5556-6246', 'materias': ['Math', 'Physics'], 'age': '20', 'name': 'Juan'}\n"
     ]
    }
   ],
   "source": [
    "estudiante['cel'] = '5556-6246'\n",
    "print(estudiante)"
   ]
  },
  {
   "cell_type": "code",
   "execution_count": 18,
   "metadata": {
    "collapsed": false
   },
   "outputs": [
    {
     "name": "stdout",
     "output_type": "stream",
     "text": [
      "{'cel': '5556-6246', 'materias': ['Math', 'Physics'], 'age': '20', 'name': 'Jake'}\n"
     ]
    }
   ],
   "source": [
    "estudiante['name'] = 'Jake'\n",
    "print(estudiante)"
   ]
  },
  {
   "cell_type": "code",
   "execution_count": 25,
   "metadata": {
    "collapsed": false
   },
   "outputs": [
    {
     "name": "stdout",
     "output_type": "stream",
     "text": [
      "{'materias': ['Math', 'Physics'], 'cel': '5556-2519', 'age': '27', 'name': 'John'}\n"
     ]
    }
   ],
   "source": [
    "estudiante.update({'name': 'John', 'age': '27', 'cel': '5556-2519'})\n",
    "print(estudiante)"
   ]
  },
  {
   "cell_type": "code",
   "execution_count": 26,
   "metadata": {
    "collapsed": false
   },
   "outputs": [
    {
     "name": "stdout",
     "output_type": "stream",
     "text": [
      "{'materias': ['Math', 'Physics'], 'cel': '5556-2519', 'name': 'John'}\n"
     ]
    }
   ],
   "source": [
    "del estudiante['age']\n",
    "print(estudiante)"
   ]
  },
  {
   "cell_type": "code",
   "execution_count": 28,
   "metadata": {
    "collapsed": false
   },
   "outputs": [
    {
     "name": "stdout",
     "output_type": "stream",
     "text": [
      "{'cel': '5556-2519', 'materias': ['Math', 'Physics'], 'name': 'John'}\n",
      "27\n"
     ]
    }
   ],
   "source": [
    "estudiante = {'name': 'John', 'age': '27', 'cel': '5556-2519', 'materias': ['Math', 'Physics']}\n",
    "age = estudiante.pop('age')\n",
    "\n",
    "print(estudiante)\n",
    "print(age)"
   ]
  },
  {
   "cell_type": "code",
   "execution_count": 29,
   "metadata": {
    "collapsed": false
   },
   "outputs": [
    {
     "name": "stdout",
     "output_type": "stream",
     "text": [
      "3\n"
     ]
    }
   ],
   "source": [
    "print(len(estudiante)) # return the number of keys in the dict"
   ]
  },
  {
   "cell_type": "code",
   "execution_count": 30,
   "metadata": {
    "collapsed": false
   },
   "outputs": [
    {
     "name": "stdout",
     "output_type": "stream",
     "text": [
      "dict_keys(['cel', 'materias', 'name'])\n"
     ]
    }
   ],
   "source": [
    "print(estudiante.keys()) # print the keys in the dict"
   ]
  },
  {
   "cell_type": "code",
   "execution_count": 31,
   "metadata": {
    "collapsed": false
   },
   "outputs": [
    {
     "name": "stdout",
     "output_type": "stream",
     "text": [
      "dict_items([('cel', '5556-2519'), ('materias', ['Math', 'Physics']), ('name', 'John')])\n"
     ]
    }
   ],
   "source": [
    "print(estudiante.items()) # print the keys AND values in the dict"
   ]
  },
  {
   "cell_type": "code",
   "execution_count": 33,
   "metadata": {
    "collapsed": false
   },
   "outputs": [
    {
     "name": "stdout",
     "output_type": "stream",
     "text": [
      "cel\n",
      "materias\n",
      "name\n"
     ]
    }
   ],
   "source": [
    "for key in estudiante:\n",
    "    print(key)"
   ]
  },
  {
   "cell_type": "code",
   "execution_count": 34,
   "metadata": {
    "collapsed": false
   },
   "outputs": [
    {
     "name": "stdout",
     "output_type": "stream",
     "text": [
      "('cel', '5556-2519')\n",
      "('materias', ['Math', 'Physics'])\n",
      "('name', 'John')\n"
     ]
    }
   ],
   "source": [
    "for key in estudiante.items():\n",
    "    print(key)"
   ]
  },
  {
   "cell_type": "code",
   "execution_count": 35,
   "metadata": {
    "collapsed": false
   },
   "outputs": [
    {
     "name": "stdout",
     "output_type": "stream",
     "text": [
      "cel 5556-2519\n",
      "materias ['Math', 'Physics']\n",
      "name John\n"
     ]
    }
   ],
   "source": [
    "for key, value in estudiante.items(): # loop for keys and values of dict\n",
    "    print(key, value)"
   ]
  },
  {
   "cell_type": "code",
   "execution_count": null,
   "metadata": {
    "collapsed": true
   },
   "outputs": [],
   "source": []
  }
 ],
 "metadata": {
  "kernelspec": {
   "display_name": "Python 3",
   "language": "python",
   "name": "python3"
  },
  "language_info": {
   "codemirror_mode": {
    "name": "ipython",
    "version": 3
   },
   "file_extension": ".py",
   "mimetype": "text/x-python",
   "name": "python",
   "nbconvert_exporter": "python",
   "pygments_lexer": "ipython3",
   "version": "3.5.4"
  }
 },
 "nbformat": 4,
 "nbformat_minor": 0
}
