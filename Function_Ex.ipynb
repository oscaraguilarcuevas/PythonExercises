{
 "cells": [
  {
   "cell_type": "code",
   "execution_count": null,
   "metadata": {
    "collapsed": true
   },
   "outputs": [],
   "source": [
    "def hola():\n",
    "    pass    # indicates the function wan be left empty without making error\n",
    "\n",
    "hola()"
   ]
  },
  {
   "cell_type": "code",
   "execution_count": null,
   "metadata": {
    "collapsed": false
   },
   "outputs": [],
   "source": [
    "def hola():\n",
    "    pass\n",
    "\n",
    "print(hola)    # prints locations and memory without executing the function"
   ]
  },
  {
   "cell_type": "code",
   "execution_count": null,
   "metadata": {
    "collapsed": true
   },
   "outputs": [],
   "source": [
    "hola()"
   ]
  },
  {
   "cell_type": "code",
   "execution_count": null,
   "metadata": {
    "collapsed": false
   },
   "outputs": [],
   "source": [
    "def hola():\n",
    "    pass\n",
    "\n",
    "print(hola())"
   ]
  },
  {
   "cell_type": "code",
   "execution_count": null,
   "metadata": {
    "collapsed": false
   },
   "outputs": [],
   "source": [
    "def hola():\n",
    "    print('¡Hola!')\n",
    "    \n",
    "hola()"
   ]
  },
  {
   "cell_type": "code",
   "execution_count": null,
   "metadata": {
    "collapsed": false
   },
   "outputs": [],
   "source": [
    "def hola():\n",
    "    return 'Hola'\n",
    "\n",
    "print(hola())"
   ]
  },
  {
   "cell_type": "code",
   "execution_count": null,
   "metadata": {
    "collapsed": false
   },
   "outputs": [],
   "source": [
    "def hola():\n",
    "    return 'Hola'\n",
    "\n",
    "print(hola().upper())"
   ]
  },
  {
   "cell_type": "code",
   "execution_count": null,
   "metadata": {
    "collapsed": false
   },
   "outputs": [],
   "source": [
    "def hola(salutation):\n",
    "    return 'Hola {}'.format(salutation) # CURLY brackets, format(VARIABLE)\n",
    "\n",
    "print(hola('tú')) # function with the VALUE of the VARIABLE inside"
   ]
  },
  {
   "cell_type": "code",
   "execution_count": 1,
   "metadata": {
    "collapsed": false
   },
   "outputs": [
    {
     "name": "stdout",
     "output_type": "stream",
     "text": [
      "Holi mundo\n"
     ]
    }
   ],
   "source": [
    "def hola(salutation, name='mundo'):\n",
    "    return '{} {}'.format(salutation, name) # another variable\n",
    "\n",
    "print(hola('Holi')) "
   ]
  },
  {
   "cell_type": "code",
   "execution_count": 2,
   "metadata": {
    "collapsed": false
   },
   "outputs": [
    {
     "name": "stdout",
     "output_type": "stream",
     "text": [
      "Holi Osqui\n"
     ]
    }
   ],
   "source": [
    "def hola(salutation, name='mundo'):\n",
    "    return '{} {}'.format(salutation, name) # another variable\n",
    "\n",
    "print(hola('Holi', name = 'Osqui')) "
   ]
  },
  {
   "cell_type": "code",
   "execution_count": 3,
   "metadata": {
    "collapsed": false
   },
   "outputs": [
    {
     "name": "stdout",
     "output_type": "stream",
     "text": [
      "('Motorola', 'Nokia', 'iPhone')\n",
      "{'name': 'Kyle', 'age': '32'}\n"
     ]
    }
   ],
   "source": [
    "def personal_info(*args, **kwargs): # accepts an ARBITRARY NUMBER of\n",
    "    print(args)                    # positional or keyword arguments\n",
    "    print(kwargs)\n",
    "    \n",
    "personal_info('Motorola', 'Nokia', 'iPhone', name='Kyle', age='32')"
   ]
  },
  {
   "cell_type": "code",
   "execution_count": 7,
   "metadata": {
    "collapsed": false
   },
   "outputs": [
    {
     "name": "stdout",
     "output_type": "stream",
     "text": [
      "('Motorola', 'Nokia', 'iPhone')\n",
      "{'name': 'Kyle', 'age': '32'}\n"
     ]
    }
   ],
   "source": [
    "def personal_info(*args, **kwargs):   # to accept arguments\n",
    "    print(args)                    \n",
    "    print(kwargs)\n",
    "    \n",
    "phone = ['Motorola', 'Nokia', 'iPhone']\n",
    "info = {'name': 'Kyle', 'age': '32'}\n",
    "    \n",
    "personal_info(*phone, **info)       # to unpack values"
   ]
  },
  {
   "cell_type": "code",
   "execution_count": null,
   "metadata": {
    "collapsed": true
   },
   "outputs": [],
   "source": []
  }
 ],
 "metadata": {
  "kernelspec": {
   "display_name": "Python 3",
   "language": "python",
   "name": "python3"
  },
  "language_info": {
   "codemirror_mode": {
    "name": "ipython",
    "version": 3
   },
   "file_extension": ".py",
   "mimetype": "text/x-python",
   "name": "python",
   "nbconvert_exporter": "python",
   "pygments_lexer": "ipython3",
   "version": "3.5.4"
  }
 },
 "nbformat": 4,
 "nbformat_minor": 0
}
